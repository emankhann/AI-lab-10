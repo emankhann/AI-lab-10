{
 "cells": [
  {
   "cell_type": "code",
   "execution_count": null,
   "id": "30f88a37-8de0-4839-bc8d-b3888446d307",
   "metadata": {},
   "outputs": [],
   "source": []
  }
 ],
 "metadata": {
  "kernelspec": {
   "display_name": "",
   "name": ""
  },
  "language_info": {
   "name": ""
  }
 },
 "nbformat": 4,
 "nbformat_minor": 5
}
