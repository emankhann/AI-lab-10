{
 "cells": [
  {
   "cell_type": "code",
   "execution_count": null,
   "id": "419e5ef0-3123-4eb1-8433-5febff897da3",
   "metadata": {},
   "outputs": [],
   "source": []
  }
 ],
 "metadata": {
  "kernelspec": {
   "display_name": "",
   "name": ""
  },
  "language_info": {
   "name": ""
  }
 },
 "nbformat": 4,
 "nbformat_minor": 5
}
