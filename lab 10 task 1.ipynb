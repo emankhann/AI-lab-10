{
 "cells": [
  {
   "cell_type": "code",
   "execution_count": 7,
   "id": "df40b61c-a124-45f2-9f19-d2f22b601a26",
   "metadata": {},
   "outputs": [
    {
     "name": "stdout",
     "output_type": "stream",
     "text": [
      "Eman\n",
      "Huda\n",
      "Zainab\n",
      "Fiza\n"
     ]
    }
   ],
   "source": [
    "names = [\"Eman\", \"Huda\", \"Zainab\", \"Fiza\"]\n",
    "for name in names:\n",
    "    print(name)\n"
   ]
  },
  {
   "cell_type": "code",
   "execution_count": null,
   "id": "8567c712-5544-4775-9f15-aebe6bb33d8a",
   "metadata": {},
   "outputs": [],
   "source": []
  }
 ],
 "metadata": {
  "kernelspec": {
   "display_name": "Python 3 (ipykernel)",
   "language": "python",
   "name": "python3"
  },
  "language_info": {
   "codemirror_mode": {
    "name": "ipython",
    "version": 3
   },
   "file_extension": ".py",
   "mimetype": "text/x-python",
   "name": "python",
   "nbconvert_exporter": "python",
   "pygments_lexer": "ipython3",
   "version": "3.12.3"
  }
 },
 "nbformat": 4,
 "nbformat_minor": 5
}
