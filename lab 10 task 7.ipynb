{
 "cells": [
  {
   "cell_type": "code",
   "execution_count": null,
   "id": "07233d7d-ec79-4926-babd-6c479fb584b9",
   "metadata": {},
   "outputs": [],
   "source": []
  }
 ],
 "metadata": {
  "kernelspec": {
   "display_name": "",
   "name": ""
  },
  "language_info": {
   "name": ""
  }
 },
 "nbformat": 4,
 "nbformat_minor": 5
}
