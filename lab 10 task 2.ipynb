{
 "cells": [
  {
   "cell_type": "code",
   "execution_count": 2,
   "id": "5f441328-73d9-44e1-96d8-3d8af947eec1",
   "metadata": {},
   "outputs": [
    {
     "name": "stdout",
     "output_type": "stream",
     "text": [
      "Dear Fiza Khan, you are cordially invited to dinner!\n",
      "Dear Huda Zahid, you are cordially invited to dinner!\n",
      "Dear Zainab Khurram, you are cordially invited to dinner!\n"
     ]
    }
   ],
   "source": [
    "dinner_guests = [\"Fiza Khan\", \"Huda Zahid\", \"Zainab Khurram\"]\n",
    "for guest in dinner_guests:\n",
    "    print(f\"Dear {guest}, you are cordially invited to dinner!\")\t\n"
   ]
  },
  {
   "cell_type": "code",
   "execution_count": null,
   "id": "a9457763-2c2d-47ab-95f5-d6e85bd60632",
   "metadata": {},
   "outputs": [],
   "source": []
  }
 ],
 "metadata": {
  "kernelspec": {
   "display_name": "Python 3 (ipykernel)",
   "language": "python",
   "name": "python3"
  },
  "language_info": {
   "codemirror_mode": {
    "name": "ipython",
    "version": 3
   },
   "file_extension": ".py",
   "mimetype": "text/x-python",
   "name": "python",
   "nbconvert_exporter": "python",
   "pygments_lexer": "ipython3",
   "version": "3.12.3"
  }
 },
 "nbformat": 4,
 "nbformat_minor": 5
}
